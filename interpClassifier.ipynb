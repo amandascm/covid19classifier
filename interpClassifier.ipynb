{
  "nbformat": 4,
  "nbformat_minor": 0,
  "metadata": {
    "accelerator": "GPU",
    "colab": {
      "name": "interpClassifier.ipynb",
      "provenance": [],
      "authorship_tag": "ABX9TyMkUBLoGp8Ue0IX8bDezWkb",
      "include_colab_link": true
    },
    "kernelspec": {
      "display_name": "Python 3",
      "name": "python3"
    },
    "language_info": {
      "name": "python"
    }
  },
  "cells": [
    {
      "cell_type": "markdown",
      "metadata": {
        "id": "view-in-github",
        "colab_type": "text"
      },
      "source": [
        "<a href=\"https://colab.research.google.com/github/amandascm/covid19classifier/blob/main/interpClassifier.ipynb\" target=\"_parent\"><img src=\"https://colab.research.google.com/assets/colab-badge.svg\" alt=\"Open In Colab\"/></a>"
      ]
    },
    {
      "cell_type": "markdown",
      "metadata": {
        "id": "BordJmNb1-vu"
      },
      "source": [
        "#**An interpretable classifier for chest x-ray images**\n",
        "\n",
        "This project aims to feed a deep learning model with a chest x-ray input and obtain a positive / negative forecast for COVID-19 plus a heat map that represents the regions of interest used to determine the obtained response.\n",
        "\n",
        "It has 2 main modules:\n",
        "- A Convolutional Neural Network developed from scratch\n",
        "- A Grad-CAM technique implementation\n",
        "\n",
        "These tools provide to the project the image classification ability (CNN) and the visual interpretability of the CNN predictions (Grad-CAM), which are extremely relevant to the social role that an auxiliary diagnostic tool fulfills.\n",
        "\n",
        "In addition, our deep learning model was trained and tested with the [Kaggle dataset from CoronaHack](https://www.kaggle.com/praveengovi/coronahack-chest-xraydataset) (its preprocessment is also implemented and described bellow).\n"
      ]
    },
    {
      "cell_type": "markdown",
      "metadata": {
        "id": "iNAqrQpFx5vc"
      },
      "source": [
        "##**Imports and setup**"
      ]
    },
    {
      "cell_type": "code",
      "metadata": {
        "id": "ocF2L2Op2oUR"
      },
      "source": [
        "import tensorflow as tf\n",
        "from tensorflow import keras\n",
        "from keras.preprocessing.image import ImageDataGenerator, array_to_img, img_to_array, load_img\n",
        "from sklearn.model_selection import train_test_split\n",
        "from sklearn.metrics import classification_report, confusion_matrix\n",
        "from sklearn.model_selection import KFold\n",
        "from google.colab import files\n",
        "import numpy as np\n",
        "import matplotlib.pyplot as plt\n",
        "import cv2\n",
        "import pandas as pd\n",
        "import random\n",
        "import os\n",
        "\n",
        "SEED = 23\n",
        "random.seed(SEED)\n",
        "\n",
        "inputShape = (128,128,3)"
      ],
      "execution_count": null,
      "outputs": []
    },
    {
      "cell_type": "markdown",
      "metadata": {
        "id": "B5syawNcZsda"
      },
      "source": [
        "##**Our Model**\n",
        "\n",
        "\n",
        "---\n",
        "\n"
      ]
    },
    {
      "cell_type": "markdown",
      "metadata": {
        "id": "YhltldwR4eCL"
      },
      "source": [
        "####**Architecture:**\n",
        "This model was inspired by the COVID-XNet architecture, a deep learning project developed to classifiy chest x-rays (Article: COVID-XNet: A Custom Deep Learning System to Diagnose and Locate COVID-19 in Chest X-ray Images).\n",
        "\n",
        "The layers are:\n",
        "\n",
        "**(Conv1) -> (MaxPool1) -> (Conv2) -> (MaxPool2) -> (Conv3) -> (MaxPool3) -> (Conv4) -> (MaxPool4) -> (Conv5) -> (MaxPool5) -> (GAP) -> (Sigmoid)**"
      ]
    },
    {
      "cell_type": "markdown",
      "metadata": {
        "id": "ox7B-umRXkqS"
      },
      "source": [
        "####**Model definition**\n",
        "- Layers\n",
        "- Optimizer, loss and metrics"
      ]
    },
    {
      "cell_type": "code",
      "metadata": {
        "id": "2f6a4zTn4wzi"
      },
      "source": [
        "class OurModel():\n",
        "  def __init__(self, modelPath):\n",
        "    self.modelPath = modelPath\n",
        "    # Initializes a keras model to carry our Network\n",
        "    self.model = keras.Sequential()\n",
        "    # Layers\n",
        "    self.addLayers()\n",
        "    # Optimizer, loss and metrics\n",
        "    self.configureCompile()\n",
        "    # Callbacks\n",
        "    self.defineCallbacks()\n",
        "\n",
        "  def configureCompile(self):\n",
        "    self.model.compile(optimizer='adam',\n",
        "                loss = 'binary_crossentropy',\n",
        "                metrics=['accuracy'])\n",
        "    \n",
        "  def defineCallbacks(self):\n",
        "    # Checkpoint to ensure our model gets saved everytime it reaches a better accuracy value\n",
        "    checkpoint = keras.callbacks.ModelCheckpoint(filepath=f'{self.modelPath}', \n",
        "                  monitor='val_accuracy', verbose=0,\n",
        "                  save_best_only=True, mode='max')\n",
        "    self.callbacks = [checkpoint]\n",
        "\n",
        "  def addLayers(self):\n",
        "    self.model.add(keras.Input(shape=inputShape, name=\"Input\"))\n",
        "    self.addConvMax(convFilters=14, convKernelSize=5, convActiv=\"relu\", maxPoolSize=(2,2), i=1)\n",
        "    self.addConvMax(convFilters=28, convKernelSize=5, convActiv=\"relu\", maxPoolSize=(2,2), i=2)\n",
        "    self.addConvMax(convFilters=28, convKernelSize=5, convActiv=\"relu\", maxPoolSize=(2,2), i=3)\n",
        "    self.addConvMax(convFilters=28, convKernelSize=3, convActiv=\"relu\", maxPoolSize=(2,2), i=4)\n",
        "    self.addConvMax(convFilters=56, convKernelSize=3, convActiv=\"relu\", maxPoolSize=(2,2), i=5)\n",
        "    self.addClassifier(1)\n",
        "\n",
        "  # Function to add a Conv followed by a MaxPool layer in our model\n",
        "  def addConvMax(self, convFilters, convKernelSize, convActiv, maxPoolSize, i):  \n",
        "    self.model.add(keras.layers.Conv2D(filters=convFilters, kernel_size=convKernelSize, activation=convActiv, name=f'Conv{i}'))\n",
        "    self.model.add(keras.layers.MaxPool2D(pool_size=maxPoolSize, name=f'MaxPool{i}'))\n",
        "\n",
        "  # Function to add a GAP followed by a dense (sigmoid) layer\n",
        "  def addClassifier(self, i):  \n",
        "    self.model.add(keras.layers.GlobalAvgPool2D(name=f'GAP{i}'))\n",
        "    self.model.add(keras.layers.Dense(1, activation='sigmoid', name=f'Sigmoid{i}'))"
      ],
      "execution_count": null,
      "outputs": []
    },
    {
      "cell_type": "code",
      "metadata": {
        "colab": {
          "base_uri": "https://localhost:8080/"
        },
        "id": "iEPH1R2o5kHB",
        "outputId": "66ad4ea5-2935-47ad-fcea-dc3b3f66e684"
      },
      "source": [
        "# Example\n",
        "myCNN = OurModel(\"CNN0\")\n",
        "myCNN.model.summary()"
      ],
      "execution_count": null,
      "outputs": [
        {
          "output_type": "stream",
          "text": [
            "Model: \"sequential\"\n",
            "_________________________________________________________________\n",
            "Layer (type)                 Output Shape              Param #   \n",
            "=================================================================\n",
            "Conv1 (Conv2D)               (None, 124, 124, 14)      1064      \n",
            "_________________________________________________________________\n",
            "MaxPool1 (MaxPooling2D)      (None, 62, 62, 14)        0         \n",
            "_________________________________________________________________\n",
            "Conv2 (Conv2D)               (None, 58, 58, 28)        9828      \n",
            "_________________________________________________________________\n",
            "MaxPool2 (MaxPooling2D)      (None, 29, 29, 28)        0         \n",
            "_________________________________________________________________\n",
            "Conv3 (Conv2D)               (None, 25, 25, 28)        19628     \n",
            "_________________________________________________________________\n",
            "MaxPool3 (MaxPooling2D)      (None, 12, 12, 28)        0         \n",
            "_________________________________________________________________\n",
            "Conv4 (Conv2D)               (None, 10, 10, 28)        7084      \n",
            "_________________________________________________________________\n",
            "MaxPool4 (MaxPooling2D)      (None, 5, 5, 28)          0         \n",
            "_________________________________________________________________\n",
            "Conv5 (Conv2D)               (None, 3, 3, 56)          14168     \n",
            "_________________________________________________________________\n",
            "MaxPool5 (MaxPooling2D)      (None, 1, 1, 56)          0         \n",
            "_________________________________________________________________\n",
            "GAP1 (GlobalAveragePooling2D (None, 56)                0         \n",
            "_________________________________________________________________\n",
            "Sigmoid1 (Dense)             (None, 1)                 57        \n",
            "=================================================================\n",
            "Total params: 51,829\n",
            "Trainable params: 51,829\n",
            "Non-trainable params: 0\n",
            "_________________________________________________________________\n"
          ],
          "name": "stdout"
        }
      ]
    },
    {
      "cell_type": "markdown",
      "metadata": {
        "id": "m_-b4I82rV6i"
      },
      "source": [
        "##**Getting our dataset**\n",
        "\n",
        "\n",
        "---\n",
        "\n"
      ]
    },
    {
      "cell_type": "markdown",
      "metadata": {
        "id": "4wt4piOF8NDe"
      },
      "source": [
        "We will import a Kaggle dataset from the CoronaHack - Chest X-Ray-Dataset. To do so, you need to:\n",
        "- Have a Kaggle account\n",
        "- Go to Account -> Account -> Create new API token -> download your kaggle.json file\n",
        "- Open your google drive, create a new folder named 'Kaggle' in your root directory (My drive) and upload your kaggle.json inside it\n",
        "- Run the following cells"
      ]
    },
    {
      "cell_type": "markdown",
      "metadata": {
        "id": "jGuHrDHGq3RI"
      },
      "source": [
        "###**Import dataset**"
      ]
    },
    {
      "cell_type": "markdown",
      "metadata": {
        "id": "fibid5yK9EKa"
      },
      "source": [
        "####**Mount our drive folders**"
      ]
    },
    {
      "cell_type": "code",
      "metadata": {
        "colab": {
          "base_uri": "https://localhost:8080/"
        },
        "id": "oIwdxsRSYpc9",
        "outputId": "8be7ff4b-6025-4eb6-e683-c3cc3520afe6"
      },
      "source": [
        "from google.colab import drive\n",
        "drive.mount('/content/gdrive')"
      ],
      "execution_count": null,
      "outputs": [
        {
          "output_type": "stream",
          "text": [
            "Mounted at /content/gdrive\n"
          ],
          "name": "stdout"
        }
      ]
    },
    {
      "cell_type": "markdown",
      "metadata": {
        "id": "I1T9ribl_Ew4"
      },
      "source": [
        "####**Configure environment**"
      ]
    },
    {
      "cell_type": "code",
      "metadata": {
        "id": "JFmZCk3Y9IS-"
      },
      "source": [
        "os.environ['KAGGLE_CONFIG_DIR'] = \"/content/gdrive/My Drive/Kaggle\""
      ],
      "execution_count": null,
      "outputs": []
    },
    {
      "cell_type": "markdown",
      "metadata": {
        "id": "EfbLpVIh_JEY"
      },
      "source": [
        "####**Download data**"
      ]
    },
    {
      "cell_type": "code",
      "metadata": {
        "colab": {
          "base_uri": "https://localhost:8080/"
        },
        "id": "xwGMcG3t9Yb_",
        "outputId": "f21e5822-be33-4262-c0a2-a0a9e649d2f2"
      },
      "source": [
        "%cd /content/gdrive/My Drive/Kaggle"
      ],
      "execution_count": null,
      "outputs": [
        {
          "output_type": "stream",
          "text": [
            "/content/gdrive/My Drive/Kaggle\n"
          ],
          "name": "stdout"
        }
      ]
    },
    {
      "cell_type": "code",
      "metadata": {
        "colab": {
          "base_uri": "https://localhost:8080/"
        },
        "id": "02TE4Whn97XB",
        "outputId": "35328a3d-2b51-40e8-e2f1-5c25dfb206d1"
      },
      "source": [
        "!kaggle datasets download -d praveengovi/coronahack-chest-xraydataset"
      ],
      "execution_count": null,
      "outputs": [
        {
          "output_type": "stream",
          "text": [
            "coronahack-chest-xraydataset.zip: Skipping, found more recently modified local copy (use --force to force download)\n"
          ],
          "name": "stdout"
        }
      ]
    },
    {
      "cell_type": "code",
      "metadata": {
        "colab": {
          "base_uri": "https://localhost:8080/"
        },
        "id": "eWFYguXM-PGi",
        "outputId": "4e5dad9b-5018-4bd5-962c-33d9617e90ac"
      },
      "source": [
        "%cd ../../.."
      ],
      "execution_count": null,
      "outputs": [
        {
          "output_type": "stream",
          "text": [
            "/content\n"
          ],
          "name": "stdout"
        }
      ]
    },
    {
      "cell_type": "markdown",
      "metadata": {
        "id": "3YiF1Zi8q8S_"
      },
      "source": [
        "###**Unzip**"
      ]
    },
    {
      "cell_type": "code",
      "metadata": {
        "id": "A3MfQxFm9kg5"
      },
      "source": [
        "!unzip /content/gdrive/MyDrive/Kaggle/coronahack-chest-xraydataset.zip -d ./dataset"
      ],
      "execution_count": null,
      "outputs": []
    },
    {
      "cell_type": "markdown",
      "metadata": {
        "id": "cBJ41P-NraXK"
      },
      "source": [
        "###**Dataset variables**\n",
        "- metadata file (contains information about our images)\n",
        "- train directory path\n",
        "- test directory path\n",
        "- datasets path"
      ]
    },
    {
      "cell_type": "code",
      "metadata": {
        "id": "kJ6ZfFYwrkdh"
      },
      "source": [
        "METADATA_PATH = '/content/dataset/Chest_xray_Corona_Metadata.csv'\n",
        "TRAIN_DIR_PATH = '/content/dataset/Coronahack-Chest-XRay-Dataset/Coronahack-Chest-XRay-Dataset/train/'\n",
        "TEST_DIR_PATH = '/content/dataset/Coronahack-Chest-XRay-Dataset/Coronahack-Chest-XRay-Dataset/test/'\n",
        "SETS_DIR_PATH = '/content/dataset/Coronahack-Chest-XRay-Dataset/Coronahack-Chest-XRay-Dataset/'"
      ],
      "execution_count": null,
      "outputs": []
    },
    {
      "cell_type": "markdown",
      "metadata": {
        "id": "dZcX8Tx_qH1G"
      },
      "source": [
        "##**Dataset preprocessing**\n",
        "\n",
        "\n",
        "---\n",
        "\n"
      ]
    },
    {
      "cell_type": "markdown",
      "metadata": {
        "id": "JxwZmkx5rsMc"
      },
      "source": [
        "Let's check how are our x-ray images described in our metadata file:"
      ]
    },
    {
      "cell_type": "code",
      "metadata": {
        "id": "Ov4ijvMLqG2V"
      },
      "source": [
        "# Put our metadata in a dataframe\n",
        "metadata = pd.read_csv(METADATA_PATH)"
      ],
      "execution_count": null,
      "outputs": []
    },
    {
      "cell_type": "code",
      "metadata": {
        "colab": {
          "base_uri": "https://localhost:8080/",
          "height": 206
        },
        "id": "sp4JZLhxsOpV",
        "outputId": "95ba4a7e-ced6-4bff-936c-fcd127b38bab"
      },
      "source": [
        "# Print the first 5 rows of our dataframe\n",
        "metadata.head()"
      ],
      "execution_count": null,
      "outputs": [
        {
          "output_type": "execute_result",
          "data": {
            "text/html": [
              "<div>\n",
              "<style scoped>\n",
              "    .dataframe tbody tr th:only-of-type {\n",
              "        vertical-align: middle;\n",
              "    }\n",
              "\n",
              "    .dataframe tbody tr th {\n",
              "        vertical-align: top;\n",
              "    }\n",
              "\n",
              "    .dataframe thead th {\n",
              "        text-align: right;\n",
              "    }\n",
              "</style>\n",
              "<table border=\"1\" class=\"dataframe\">\n",
              "  <thead>\n",
              "    <tr style=\"text-align: right;\">\n",
              "      <th></th>\n",
              "      <th>Unnamed: 0</th>\n",
              "      <th>X_ray_image_name</th>\n",
              "      <th>Label</th>\n",
              "      <th>Dataset_type</th>\n",
              "      <th>Label_2_Virus_category</th>\n",
              "      <th>Label_1_Virus_category</th>\n",
              "    </tr>\n",
              "  </thead>\n",
              "  <tbody>\n",
              "    <tr>\n",
              "      <th>0</th>\n",
              "      <td>0</td>\n",
              "      <td>IM-0128-0001.jpeg</td>\n",
              "      <td>Normal</td>\n",
              "      <td>TRAIN</td>\n",
              "      <td>NaN</td>\n",
              "      <td>NaN</td>\n",
              "    </tr>\n",
              "    <tr>\n",
              "      <th>1</th>\n",
              "      <td>1</td>\n",
              "      <td>IM-0127-0001.jpeg</td>\n",
              "      <td>Normal</td>\n",
              "      <td>TRAIN</td>\n",
              "      <td>NaN</td>\n",
              "      <td>NaN</td>\n",
              "    </tr>\n",
              "    <tr>\n",
              "      <th>2</th>\n",
              "      <td>2</td>\n",
              "      <td>IM-0125-0001.jpeg</td>\n",
              "      <td>Normal</td>\n",
              "      <td>TRAIN</td>\n",
              "      <td>NaN</td>\n",
              "      <td>NaN</td>\n",
              "    </tr>\n",
              "    <tr>\n",
              "      <th>3</th>\n",
              "      <td>3</td>\n",
              "      <td>IM-0122-0001.jpeg</td>\n",
              "      <td>Normal</td>\n",
              "      <td>TRAIN</td>\n",
              "      <td>NaN</td>\n",
              "      <td>NaN</td>\n",
              "    </tr>\n",
              "    <tr>\n",
              "      <th>4</th>\n",
              "      <td>4</td>\n",
              "      <td>IM-0119-0001.jpeg</td>\n",
              "      <td>Normal</td>\n",
              "      <td>TRAIN</td>\n",
              "      <td>NaN</td>\n",
              "      <td>NaN</td>\n",
              "    </tr>\n",
              "  </tbody>\n",
              "</table>\n",
              "</div>"
            ],
            "text/plain": [
              "   Unnamed: 0   X_ray_image_name  ... Label_2_Virus_category Label_1_Virus_category\n",
              "0           0  IM-0128-0001.jpeg  ...                    NaN                    NaN\n",
              "1           1  IM-0127-0001.jpeg  ...                    NaN                    NaN\n",
              "2           2  IM-0125-0001.jpeg  ...                    NaN                    NaN\n",
              "3           3  IM-0122-0001.jpeg  ...                    NaN                    NaN\n",
              "4           4  IM-0119-0001.jpeg  ...                    NaN                    NaN\n",
              "\n",
              "[5 rows x 6 columns]"
            ]
          },
          "metadata": {
            "tags": []
          },
          "execution_count": 12
        }
      ]
    },
    {
      "cell_type": "markdown",
      "metadata": {
        "id": "IH5HP5HAyW0b"
      },
      "source": [
        "###**About our metadata**\n",
        "\n",
        "In order to correctly use our available data, we must select the needed information to our goal: classify an x-ray image as a COVID-19 or non-COVID-19 case. Initially, we have all these informations about our x-ray images:\n",
        "\n",
        "| Columns   |      Meaning      |\n",
        "|----------|:-------------:|\n",
        "| **X_ray_image_name** |  jpeg file name |\n",
        "| **Label** |  'Normal' or 'Pnemonia' |\n",
        "| **Dataset_type** |  If image belongs to 'TRAIN' or 'TEST' set |\n",
        "| **Label_1_Virus_category** |  Presence of virus, bacteria or smoking stress ('bacteria', 'Virus' or 'Stress-Smoking') |\n",
        "| **Label_2_Virus_category** |  If Label_1_Virus_category has value equals to 'Virus', indicates the present virus ('COVID-19', 'SARS'...)|\n",
        "\n",
        "To classify our inputs as COVID-19 or non-COVID-19 cases we will need **X_ray_image_name**, **Label**, **Dataset_type** and **Label_2_Virus_category** columns of our dataframe."
      ]
    },
    {
      "cell_type": "code",
      "metadata": {
        "id": "ZhRdT7lwsVcl"
      },
      "source": [
        "# Discard unnecessary columns\n",
        "metadata.drop(['Unnamed: 0', 'Label_1_Virus_category'], inplace=True, axis=1)"
      ],
      "execution_count": null,
      "outputs": []
    },
    {
      "cell_type": "markdown",
      "metadata": {
        "id": "5yXcQy65sVW7"
      },
      "source": [
        "###**Current dataframe:**"
      ]
    },
    {
      "cell_type": "code",
      "metadata": {
        "colab": {
          "base_uri": "https://localhost:8080/"
        },
        "id": "F3sM2z6Zseqt",
        "outputId": "01d262c5-c733-4d29-8cad-70365d611b0f"
      },
      "source": [
        "metadata.head()"
      ],
      "execution_count": null,
      "outputs": [
        {
          "output_type": "execute_result",
          "data": {
            "text/html": [
              "<div>\n",
              "<style scoped>\n",
              "    .dataframe tbody tr th:only-of-type {\n",
              "        vertical-align: middle;\n",
              "    }\n",
              "\n",
              "    .dataframe tbody tr th {\n",
              "        vertical-align: top;\n",
              "    }\n",
              "\n",
              "    .dataframe thead th {\n",
              "        text-align: right;\n",
              "    }\n",
              "</style>\n",
              "<table border=\"1\" class=\"dataframe\">\n",
              "  <thead>\n",
              "    <tr style=\"text-align: right;\">\n",
              "      <th></th>\n",
              "      <th>X_ray_image_name</th>\n",
              "      <th>Label</th>\n",
              "      <th>Dataset_type</th>\n",
              "      <th>Label_2_Virus_category</th>\n",
              "    </tr>\n",
              "  </thead>\n",
              "  <tbody>\n",
              "    <tr>\n",
              "      <th>0</th>\n",
              "      <td>IM-0128-0001.jpeg</td>\n",
              "      <td>Normal</td>\n",
              "      <td>TRAIN</td>\n",
              "      <td>NaN</td>\n",
              "    </tr>\n",
              "    <tr>\n",
              "      <th>1</th>\n",
              "      <td>IM-0127-0001.jpeg</td>\n",
              "      <td>Normal</td>\n",
              "      <td>TRAIN</td>\n",
              "      <td>NaN</td>\n",
              "    </tr>\n",
              "    <tr>\n",
              "      <th>2</th>\n",
              "      <td>IM-0125-0001.jpeg</td>\n",
              "      <td>Normal</td>\n",
              "      <td>TRAIN</td>\n",
              "      <td>NaN</td>\n",
              "    </tr>\n",
              "    <tr>\n",
              "      <th>3</th>\n",
              "      <td>IM-0122-0001.jpeg</td>\n",
              "      <td>Normal</td>\n",
              "      <td>TRAIN</td>\n",
              "      <td>NaN</td>\n",
              "    </tr>\n",
              "    <tr>\n",
              "      <th>4</th>\n",
              "      <td>IM-0119-0001.jpeg</td>\n",
              "      <td>Normal</td>\n",
              "      <td>TRAIN</td>\n",
              "      <td>NaN</td>\n",
              "    </tr>\n",
              "  </tbody>\n",
              "</table>\n",
              "</div>"
            ],
            "text/plain": [
              "    X_ray_image_name   Label Dataset_type Label_2_Virus_category\n",
              "0  IM-0128-0001.jpeg  Normal        TRAIN                    NaN\n",
              "1  IM-0127-0001.jpeg  Normal        TRAIN                    NaN\n",
              "2  IM-0125-0001.jpeg  Normal        TRAIN                    NaN\n",
              "3  IM-0122-0001.jpeg  Normal        TRAIN                    NaN\n",
              "4  IM-0119-0001.jpeg  Normal        TRAIN                    NaN"
            ]
          },
          "metadata": {
            "tags": []
          },
          "execution_count": 14
        }
      ]
    },
    {
      "cell_type": "markdown",
      "metadata": {
        "id": "hAUK2CYHDFH6"
      },
      "source": [
        "###**Remaking our labels and adding new columns**\n",
        "\n",
        "As we only need to know if we have a COVID-19 case or a non-COVID-19 case we can reassign the following labels to our x-ray samples and create a column designed to classifiy them into 'negative' or 'positive' class:\n",
        "\n",
        "| Label   |      Value      |\n",
        "|----------|:-------------:|\n",
        "| **positive** |  1 |\n",
        "| **negative** |  0 |"
      ]
    },
    {
      "cell_type": "code",
      "metadata": {
        "id": "dPSRlhCytuFP"
      },
      "source": [
        "negClassLabel = 'negative'\n",
        "posClassLabel = 'positive'\n",
        "negClassValue = 0\n",
        "posClassValue = 1"
      ],
      "execution_count": null,
      "outputs": []
    },
    {
      "cell_type": "markdown",
      "metadata": {
        "id": "hD_X50vGs_Nm"
      },
      "source": [
        "###**Split the dataframe into two**\n",
        "\n"
      ]
    },
    {
      "cell_type": "markdown",
      "metadata": {
        "id": "Kd9mDCCjuGWU"
      },
      "source": [
        "####**Negative class dataframe:**"
      ]
    },
    {
      "cell_type": "code",
      "metadata": {
        "id": "sSZRto59FEHI"
      },
      "source": [
        "# Dataframe with all non-COVID samples data\n",
        "nonCovid = metadata[metadata['Label_2_Virus_category'] != 'COVID-19']\n",
        "nonCovid['Value'] = negClassValue\n",
        "nonCovid['Label'] = negClassLabel\n",
        "nonCovid.drop(columns=['Label_2_Virus_category'], inplace=True)"
      ],
      "execution_count": null,
      "outputs": []
    },
    {
      "cell_type": "code",
      "metadata": {
        "colab": {
          "base_uri": "https://localhost:8080/"
        },
        "id": "bSp3MERDs0l6",
        "outputId": "c64b4a43-925c-4949-993b-8205ba1cec73"
      },
      "source": [
        "nonCovid.head()"
      ],
      "execution_count": null,
      "outputs": [
        {
          "output_type": "execute_result",
          "data": {
            "text/html": [
              "<div>\n",
              "<style scoped>\n",
              "    .dataframe tbody tr th:only-of-type {\n",
              "        vertical-align: middle;\n",
              "    }\n",
              "\n",
              "    .dataframe tbody tr th {\n",
              "        vertical-align: top;\n",
              "    }\n",
              "\n",
              "    .dataframe thead th {\n",
              "        text-align: right;\n",
              "    }\n",
              "</style>\n",
              "<table border=\"1\" class=\"dataframe\">\n",
              "  <thead>\n",
              "    <tr style=\"text-align: right;\">\n",
              "      <th></th>\n",
              "      <th>X_ray_image_name</th>\n",
              "      <th>Label</th>\n",
              "      <th>Dataset_type</th>\n",
              "      <th>Value</th>\n",
              "    </tr>\n",
              "  </thead>\n",
              "  <tbody>\n",
              "    <tr>\n",
              "      <th>0</th>\n",
              "      <td>IM-0128-0001.jpeg</td>\n",
              "      <td>negative</td>\n",
              "      <td>TRAIN</td>\n",
              "      <td>0</td>\n",
              "    </tr>\n",
              "    <tr>\n",
              "      <th>1</th>\n",
              "      <td>IM-0127-0001.jpeg</td>\n",
              "      <td>negative</td>\n",
              "      <td>TRAIN</td>\n",
              "      <td>0</td>\n",
              "    </tr>\n",
              "    <tr>\n",
              "      <th>2</th>\n",
              "      <td>IM-0125-0001.jpeg</td>\n",
              "      <td>negative</td>\n",
              "      <td>TRAIN</td>\n",
              "      <td>0</td>\n",
              "    </tr>\n",
              "    <tr>\n",
              "      <th>3</th>\n",
              "      <td>IM-0122-0001.jpeg</td>\n",
              "      <td>negative</td>\n",
              "      <td>TRAIN</td>\n",
              "      <td>0</td>\n",
              "    </tr>\n",
              "    <tr>\n",
              "      <th>4</th>\n",
              "      <td>IM-0119-0001.jpeg</td>\n",
              "      <td>negative</td>\n",
              "      <td>TRAIN</td>\n",
              "      <td>0</td>\n",
              "    </tr>\n",
              "  </tbody>\n",
              "</table>\n",
              "</div>"
            ],
            "text/plain": [
              "    X_ray_image_name     Label Dataset_type  Value\n",
              "0  IM-0128-0001.jpeg  negative        TRAIN      0\n",
              "1  IM-0127-0001.jpeg  negative        TRAIN      0\n",
              "2  IM-0125-0001.jpeg  negative        TRAIN      0\n",
              "3  IM-0122-0001.jpeg  negative        TRAIN      0\n",
              "4  IM-0119-0001.jpeg  negative        TRAIN      0"
            ]
          },
          "metadata": {
            "tags": []
          },
          "execution_count": 17
        }
      ]
    },
    {
      "cell_type": "markdown",
      "metadata": {
        "id": "p8xXrj7ru82F"
      },
      "source": [
        "####**Positive class dataframe:**"
      ]
    },
    {
      "cell_type": "code",
      "metadata": {
        "id": "tYbMHqykQHmL"
      },
      "source": [
        "# Dataframe with all COVID samples data\n",
        "covid = metadata[metadata['Label_2_Virus_category'] == 'COVID-19']\n",
        "covid['Value'] = posClassValue\n",
        "covid['Label'] = posClassLabel\n",
        "covid.drop(columns=['Label_2_Virus_category'], inplace=True)"
      ],
      "execution_count": null,
      "outputs": []
    },
    {
      "cell_type": "code",
      "metadata": {
        "colab": {
          "base_uri": "https://localhost:8080/"
        },
        "id": "IbTPfYPFuiYp",
        "outputId": "8a962b03-f4f5-4ee3-daa5-40a990365751"
      },
      "source": [
        "covid.head()"
      ],
      "execution_count": null,
      "outputs": [
        {
          "output_type": "execute_result",
          "data": {
            "text/html": [
              "<div>\n",
              "<style scoped>\n",
              "    .dataframe tbody tr th:only-of-type {\n",
              "        vertical-align: middle;\n",
              "    }\n",
              "\n",
              "    .dataframe tbody tr th {\n",
              "        vertical-align: top;\n",
              "    }\n",
              "\n",
              "    .dataframe thead th {\n",
              "        text-align: right;\n",
              "    }\n",
              "</style>\n",
              "<table border=\"1\" class=\"dataframe\">\n",
              "  <thead>\n",
              "    <tr style=\"text-align: right;\">\n",
              "      <th></th>\n",
              "      <th>X_ray_image_name</th>\n",
              "      <th>Label</th>\n",
              "      <th>Dataset_type</th>\n",
              "      <th>Value</th>\n",
              "    </tr>\n",
              "  </thead>\n",
              "  <tbody>\n",
              "    <tr>\n",
              "      <th>5221</th>\n",
              "      <td>kjr-21-e25-g001-l-a.jpg</td>\n",
              "      <td>positive</td>\n",
              "      <td>TRAIN</td>\n",
              "      <td>1</td>\n",
              "    </tr>\n",
              "    <tr>\n",
              "      <th>5222</th>\n",
              "      <td>kjr-21-e24-g003-l-a.jpg</td>\n",
              "      <td>positive</td>\n",
              "      <td>TRAIN</td>\n",
              "      <td>1</td>\n",
              "    </tr>\n",
              "    <tr>\n",
              "      <th>5223</th>\n",
              "      <td>kjr-21-e24-g002-l-a.jpg</td>\n",
              "      <td>positive</td>\n",
              "      <td>TRAIN</td>\n",
              "      <td>1</td>\n",
              "    </tr>\n",
              "    <tr>\n",
              "      <th>5224</th>\n",
              "      <td>kjr-21-e24-g001-l-a.jpg</td>\n",
              "      <td>positive</td>\n",
              "      <td>TRAIN</td>\n",
              "      <td>1</td>\n",
              "    </tr>\n",
              "    <tr>\n",
              "      <th>5225</th>\n",
              "      <td>jkms-35-e79-g001-l-c.jpg</td>\n",
              "      <td>positive</td>\n",
              "      <td>TRAIN</td>\n",
              "      <td>1</td>\n",
              "    </tr>\n",
              "  </tbody>\n",
              "</table>\n",
              "</div>"
            ],
            "text/plain": [
              "              X_ray_image_name     Label Dataset_type  Value\n",
              "5221   kjr-21-e25-g001-l-a.jpg  positive        TRAIN      1\n",
              "5222   kjr-21-e24-g003-l-a.jpg  positive        TRAIN      1\n",
              "5223   kjr-21-e24-g002-l-a.jpg  positive        TRAIN      1\n",
              "5224   kjr-21-e24-g001-l-a.jpg  positive        TRAIN      1\n",
              "5225  jkms-35-e79-g001-l-c.jpg  positive        TRAIN      1"
            ]
          },
          "metadata": {
            "tags": []
          },
          "execution_count": 19
        }
      ]
    },
    {
      "cell_type": "markdown",
      "metadata": {
        "id": "yMIShKYHvGFg"
      },
      "source": [
        "####**Dataframes shapes:**"
      ]
    },
    {
      "cell_type": "code",
      "metadata": {
        "colab": {
          "base_uri": "https://localhost:8080/"
        },
        "id": "kA8-S5FAUY61",
        "outputId": "41e1335d-54cf-405a-8847-e682dabe7ec3"
      },
      "source": [
        "print(f'Shape of non-COVID dataframe: {nonCovid.shape}')\n",
        "print(f'Shape of COVID dataframe: {covid.shape}')"
      ],
      "execution_count": null,
      "outputs": [
        {
          "output_type": "stream",
          "text": [
            "Shape of non-COVID dataframe: (5852, 4)\n",
            "Shape of COVID dataframe: (58, 4)\n"
          ],
          "name": "stdout"
        }
      ]
    },
    {
      "cell_type": "markdown",
      "metadata": {
        "id": "gYFG--DMQ3_9"
      },
      "source": [
        "###**Balance data**\n",
        "As we have seen until this point, we have 58 samples representing one of our classes, and almost 100 times more than this representing the other class. This situation gives us an imbalanced dataset, which can cause a biased classification. To solve this sort of problem, we can try a process of **data augmentation** for our positive class along with an **undersampling** process for our majoritary class."
      ]
    },
    {
      "cell_type": "markdown",
      "metadata": {
        "id": "ycD3sVfKR92i"
      },
      "source": [
        "Firstly, let's gather our classes images together based on our dataframes information. In order to store our images in memory, we will create some arrays:\n",
        "- **covidImages:** to store our COVID images as normalized arrays (easier to feed deep learning models or to preprocess them)\n",
        "- **nonCovidImages:** to store our non-COVID images as normalized arrays (easier to feed deep learning models or to preprocess them)\n",
        "- **newImages:** to store the COVID images variations (generated after data augmentation)\n"
      ]
    },
    {
      "cell_type": "code",
      "metadata": {
        "id": "etgVvvcjxBhy"
      },
      "source": [
        "# Function to put images described by one of our dataframes inside a list\n",
        "def gatherImages(arr, dataframe):\n",
        "  for i in range(0, len(dataframe)):\n",
        "    row = dataframe.iloc[i, :]\n",
        "    if row['Dataset_type'] == 'TRAIN':\n",
        "      imagePath = f\"{TRAIN_DIR_PATH}{row['X_ray_image_name']}\"\n",
        "    else:\n",
        "      imagePath = f\"{TEST_DIR_PATH}{row['X_ray_image_name']}\"\n",
        "    # Load image\n",
        "    img = load_img(imagePath)\n",
        "    # Resize image\n",
        "    img = img.resize(inputShape[:2])\n",
        "    # Image to array\n",
        "    img = img_to_array(img)\n",
        "    # Make a numpy array with our image\n",
        "    img = np.array(img)\n",
        "    arr += [img]"
      ],
      "execution_count": null,
      "outputs": []
    },
    {
      "cell_type": "code",
      "metadata": {
        "id": "UUuGvctfQQ8z"
      },
      "source": [
        "covidImages = []\n",
        "gatherImages(arr=covidImages, dataframe=covid)"
      ],
      "execution_count": null,
      "outputs": []
    },
    {
      "cell_type": "code",
      "metadata": {
        "id": "fGa_rrMgcIuw"
      },
      "source": [
        "nonCovidImages = []\n",
        "gatherImages(arr=nonCovidImages, dataframe=nonCovid)"
      ],
      "execution_count": null,
      "outputs": []
    },
    {
      "cell_type": "markdown",
      "metadata": {
        "id": "TN6vVUM3zSsD"
      },
      "source": [
        "####**Data augmentation**"
      ]
    },
    {
      "cell_type": "markdown",
      "metadata": {
        "id": "xufGK-hAetqs"
      },
      "source": [
        "Now let's instantiate an Image Generator to create variations of our COVID images (making horizontal flips, zooming etc):"
      ]
    },
    {
      "cell_type": "code",
      "metadata": {
        "id": "5c5Fl5CbepxZ"
      },
      "source": [
        "imgGen = keras.preprocessing.image.ImageDataGenerator(\n",
        "    zoom_range=0.2,\n",
        "    horizontal_flip=True,\n",
        "    shear_range=0.2\n",
        ")"
      ],
      "execution_count": null,
      "outputs": []
    },
    {
      "cell_type": "markdown",
      "metadata": {
        "id": "eHX-MYWZT1B6"
      },
      "source": [
        "We want to generate images, so we will make a folder named 'new' to store them (in the same directory where we have our 'train' and 'test' folders):"
      ]
    },
    {
      "cell_type": "code",
      "metadata": {
        "id": "OtA96G7-HKQc"
      },
      "source": [
        "# In case the folder has already been created\n",
        "!rm -rf /content/dataset/Coronahack-Chest-XRay-Dataset/Coronahack-Chest-XRay-Dataset/new"
      ],
      "execution_count": null,
      "outputs": []
    },
    {
      "cell_type": "code",
      "metadata": {
        "id": "kx6Xr1EyBSs_"
      },
      "source": [
        "# Directory creation\n",
        "newPath = f\"{SETS_DIR_PATH}new\"\n",
        "!mkdir {newPath}"
      ],
      "execution_count": null,
      "outputs": []
    },
    {
      "cell_type": "markdown",
      "metadata": {
        "id": "CUfqM_48UdPS"
      },
      "source": [
        "Creating our ImageDataGenerator flow (allows us to generate X images if it is invoked X times) and saving our x-ray variations in the 'new' directory:"
      ]
    },
    {
      "cell_type": "code",
      "metadata": {
        "id": "KoyZUFLZZO0H"
      },
      "source": [
        "# Function to invoke the dataGenerator 2 times per image\n",
        "def augmentData(img, arr, seed):\n",
        "  flowImgGen = imgGen.flow(np.array([img]), batch_size=1, save_to_dir=newPath, save_prefix='covid_', save_format='jpeg', seed=seed)\n",
        "  qtNewImages = 2\n",
        "  counter = 0\n",
        "  for (i, newImage) in enumerate(flowImgGen):\n",
        "    counter += 1\n",
        "    newImage = array_to_img(newImage[0])\n",
        "    newImage = img_to_array(newImage)\n",
        "    # Make a numpy array with our image\n",
        "    newImage = np.array(newImage)\n",
        "    arr += [newImage]\n",
        "      \n",
        "    if counter == qtNewImages:\n",
        "      break"
      ],
      "execution_count": null,
      "outputs": []
    },
    {
      "cell_type": "code",
      "metadata": {
        "id": "xWpQQEuqhWts"
      },
      "source": [
        "newCovidImages = []\n",
        "\n",
        "for i in range(0, len(covidImages)):\n",
        "  augmentData(covidImages[i], newCovidImages, seed=SEED+i)"
      ],
      "execution_count": null,
      "outputs": []
    },
    {
      "cell_type": "markdown",
      "metadata": {
        "id": "JIQ_-Tw7PrTn"
      },
      "source": [
        "#####**Saving our new images in the COVID-19 dataframe**"
      ]
    },
    {
      "cell_type": "code",
      "metadata": {
        "id": "fqfntXYjP2XR"
      },
      "source": [
        "for fileName in os.listdir(f'{SETS_DIR_PATH}new'):\n",
        "  covid = covid.append({'X_ray_image_name': fileName, 'Label': posClassLabel, 'Dataset_type':'NEW', 'Value': posClassValue}, ignore_index=True)"
      ],
      "execution_count": null,
      "outputs": []
    },
    {
      "cell_type": "code",
      "metadata": {
        "colab": {
          "base_uri": "https://localhost:8080/"
        },
        "id": "-fwczhOGRyWm",
        "outputId": "d130f536-06e6-494e-a332-f9d30caa3add"
      },
      "source": [
        "covid[covid['Dataset_type'] == 'NEW'].head()"
      ],
      "execution_count": null,
      "outputs": [
        {
          "output_type": "execute_result",
          "data": {
            "text/html": [
              "<div>\n",
              "<style scoped>\n",
              "    .dataframe tbody tr th:only-of-type {\n",
              "        vertical-align: middle;\n",
              "    }\n",
              "\n",
              "    .dataframe tbody tr th {\n",
              "        vertical-align: top;\n",
              "    }\n",
              "\n",
              "    .dataframe thead th {\n",
              "        text-align: right;\n",
              "    }\n",
              "</style>\n",
              "<table border=\"1\" class=\"dataframe\">\n",
              "  <thead>\n",
              "    <tr style=\"text-align: right;\">\n",
              "      <th></th>\n",
              "      <th>X_ray_image_name</th>\n",
              "      <th>Label</th>\n",
              "      <th>Dataset_type</th>\n",
              "      <th>Value</th>\n",
              "    </tr>\n",
              "  </thead>\n",
              "  <tbody>\n",
              "    <tr>\n",
              "      <th>58</th>\n",
              "      <td>covid__0_5610.jpeg</td>\n",
              "      <td>positive</td>\n",
              "      <td>NEW</td>\n",
              "      <td>1</td>\n",
              "    </tr>\n",
              "    <tr>\n",
              "      <th>59</th>\n",
              "      <td>covid__0_7150.jpeg</td>\n",
              "      <td>positive</td>\n",
              "      <td>NEW</td>\n",
              "      <td>1</td>\n",
              "    </tr>\n",
              "    <tr>\n",
              "      <th>60</th>\n",
              "      <td>covid__0_87.jpeg</td>\n",
              "      <td>positive</td>\n",
              "      <td>NEW</td>\n",
              "      <td>1</td>\n",
              "    </tr>\n",
              "    <tr>\n",
              "      <th>61</th>\n",
              "      <td>covid__0_9070.jpeg</td>\n",
              "      <td>positive</td>\n",
              "      <td>NEW</td>\n",
              "      <td>1</td>\n",
              "    </tr>\n",
              "    <tr>\n",
              "      <th>62</th>\n",
              "      <td>covid__0_6617.jpeg</td>\n",
              "      <td>positive</td>\n",
              "      <td>NEW</td>\n",
              "      <td>1</td>\n",
              "    </tr>\n",
              "  </tbody>\n",
              "</table>\n",
              "</div>"
            ],
            "text/plain": [
              "      X_ray_image_name     Label Dataset_type  Value\n",
              "58  covid__0_5610.jpeg  positive          NEW      1\n",
              "59  covid__0_7150.jpeg  positive          NEW      1\n",
              "60    covid__0_87.jpeg  positive          NEW      1\n",
              "61  covid__0_9070.jpeg  positive          NEW      1\n",
              "62  covid__0_6617.jpeg  positive          NEW      1"
            ]
          },
          "metadata": {
            "tags": []
          },
          "execution_count": 30
        }
      ]
    },
    {
      "cell_type": "markdown",
      "metadata": {
        "id": "4vBXszq0zAIy"
      },
      "source": [
        "#####**New images amount and shape:**"
      ]
    },
    {
      "cell_type": "code",
      "metadata": {
        "colab": {
          "base_uri": "https://localhost:8080/"
        },
        "id": "xB69IutJWN9V",
        "outputId": "0b3b0878-9e48-4fae-f8e4-35d1762b3957"
      },
      "source": [
        "print(f'Total of new images: {len(newCovidImages)}')\n",
        "print(f'Shape of new images array: {np.array(newCovidImages).shape}')"
      ],
      "execution_count": null,
      "outputs": [
        {
          "output_type": "stream",
          "text": [
            "Total of new images: 116\n",
            "Shape of new images array: (116, 128, 128, 3)\n"
          ],
          "name": "stdout"
        }
      ]
    },
    {
      "cell_type": "markdown",
      "metadata": {
        "id": "5RuwWbxBMpV3"
      },
      "source": [
        "#####**Current COVID images:** "
      ]
    },
    {
      "cell_type": "code",
      "metadata": {
        "colab": {
          "base_uri": "https://localhost:8080/"
        },
        "id": "Vt2uzuzSbFkz",
        "outputId": "340b54ce-cc9f-41a6-9736-95e9eab02410"
      },
      "source": [
        "finalCovid = covidImages + newCovidImages\n",
        "finalCovidLabels = len(finalCovid)*[np.array([1])]\n",
        "print(f'(amount of images, width, height, channels) = {np.array(finalCovid).shape}')"
      ],
      "execution_count": null,
      "outputs": [
        {
          "output_type": "stream",
          "text": [
            "(amount of images, width, height, channels) = (174, 128, 128, 3)\n"
          ],
          "name": "stdout"
        }
      ]
    },
    {
      "cell_type": "markdown",
      "metadata": {
        "id": "pr-oU296dwdf"
      },
      "source": [
        "####**Balancing our dataset**"
      ]
    },
    {
      "cell_type": "markdown",
      "metadata": {
        "id": "dGRUzkMJfJkW"
      },
      "source": [
        "Our situation is:\n",
        "- We have 58 original covid images\n",
        "- We have 116 variations of 58 covid images (new data)\n",
        "\n",
        "Which gives us a total of 174 covid class samples. To reach a balanced dataset, we need the same amount of non-covid samples.\n",
        "Let's select 174 random samples from it:"
      ]
    },
    {
      "cell_type": "code",
      "metadata": {
        "id": "ifHmRfjneWmO"
      },
      "source": [
        "random.seed(a=SEED, version=2) #ensures we'll reproduce the same random selection in every execution\n",
        "finalNonCovid = (random.choices(np.array(nonCovidImages), k=len(finalCovid)))\n",
        "finalNonCovidLabels = np.zeros((len(finalCovid),1))"
      ],
      "execution_count": null,
      "outputs": []
    },
    {
      "cell_type": "markdown",
      "metadata": {
        "id": "KsGrqlumf3RX"
      },
      "source": [
        "**Final dataset array:**\n",
        "- 174 COVID-19 x-rays\n",
        "- 174 non-COVID-19 x-rays"
      ]
    },
    {
      "cell_type": "code",
      "metadata": {
        "colab": {
          "base_uri": "https://localhost:8080/"
        },
        "id": "ycM2nCfxfull",
        "outputId": "103eb458-04bb-4b84-d8d2-c0b858c20285"
      },
      "source": [
        "finalDataset = np.array(finalCovid+finalNonCovid)\n",
        "finalLabels = np.array(list(finalCovidLabels) + list(finalNonCovidLabels))\n",
        "print(f'Dataset shape: {finalDataset.shape}')"
      ],
      "execution_count": null,
      "outputs": [
        {
          "output_type": "stream",
          "text": [
            "Dataset shape: (348, 128, 128, 3)\n"
          ],
          "name": "stdout"
        }
      ]
    },
    {
      "cell_type": "markdown",
      "metadata": {
        "id": "4bl-kCfQOKgu"
      },
      "source": [
        "##**Training and results**"
      ]
    },
    {
      "cell_type": "markdown",
      "metadata": {
        "id": "rvQSKp8Hw5Du"
      },
      "source": [
        "###**Validation technique: train and test sets**"
      ]
    },
    {
      "cell_type": "markdown",
      "metadata": {
        "id": "WeBXZ1lekZYR"
      },
      "source": [
        "To define our training and testing sets, we must choose a validation pattern to split our data and posteriorly evaluate our deep models performance.\n",
        "\n",
        "Since we have little data, the **k-fold cross validation** technique seems to be a good choice to measure the average accuracy of our model: it varies the composition of the train and the test set k times. This technique can indicate the model generalization capability and point to a possible **overfitting** situation if the performance of each fold diverges too much from the others.\n",
        "\n",
        "> \"In k-fold cross-validation, the original sample is randomly partitioned into k equal sized subsamples. Of the k subsamples, a single subsample is retained as the validation data for testing the model, and the remaining k − 1 subsamples are used as training data. The cross-validation process is then repeated k times, with each of the k subsamples used exactly once as the validation data. The k results can then be averaged to produce a single estimation.\" (From Wikipedia)\n",
        "\n",
        "\n",
        "\n",
        "Let's make it real:"
      ]
    },
    {
      "cell_type": "code",
      "metadata": {
        "id": "EtqiZl7svSy-"
      },
      "source": [
        "nFolds = 5 # 4 will be used as train set, 1 will be used as test set\n",
        "kFoldValidator = KFold(n_splits=nFolds, shuffle=True, random_state=SEED) # instance of K-fold validator\n",
        "accPerFold = []\n",
        "lossPerFold = []"
      ],
      "execution_count": null,
      "outputs": []
    },
    {
      "cell_type": "markdown",
      "metadata": {
        "id": "eHvtpDvd2GiP"
      },
      "source": [
        "###**Training**"
      ]
    },
    {
      "cell_type": "markdown",
      "metadata": {
        "id": "lLcvyMLNxAiB"
      },
      "source": [
        "####**Some hyperparameters**"
      ]
    },
    {
      "cell_type": "code",
      "metadata": {
        "id": "CqWptqPAwC9W"
      },
      "source": [
        "nEpochs = 50\n",
        "batchSize = 4"
      ],
      "execution_count": null,
      "outputs": []
    },
    {
      "cell_type": "markdown",
      "metadata": {
        "id": "EZfqNLQKyMX2"
      },
      "source": [
        "####**Models directory**\n",
        "\n",
        "To store our best-performing models"
      ]
    },
    {
      "cell_type": "code",
      "metadata": {
        "id": "-BYd1fI8zspK"
      },
      "source": [
        "MODEL_PATH_BASE = './models/'"
      ],
      "execution_count": null,
      "outputs": []
    },
    {
      "cell_type": "code",
      "metadata": {
        "id": "0dMmFhXs4Nku"
      },
      "source": [
        "# In case the folder has already been created and you want to remove it\n",
        "!rm -rf {MODEL_PATH_BASE}"
      ],
      "execution_count": null,
      "outputs": []
    },
    {
      "cell_type": "code",
      "metadata": {
        "id": "5t5E2gUw4Nkx"
      },
      "source": [
        "# Directory where deep models must be saved in\n",
        "newPath = f\"{MODEL_PATH_BASE}\"\n",
        "!mkdir {newPath}"
      ],
      "execution_count": null,
      "outputs": []
    },
    {
      "cell_type": "markdown",
      "metadata": {
        "id": "lGyoIRb_odOs"
      },
      "source": [
        "####**Train and save models**"
      ]
    },
    {
      "cell_type": "code",
      "metadata": {
        "id": "FRng2FRInk5M"
      },
      "source": [
        "results = pd.DataFrame(data=[], columns=[\"Fold\", \"Accuracy\", \"Loss\"]) # Results of our k folds\n",
        "sets = kFoldValidator.split(finalDataset, finalLabels) # sets from our finalDataset\n",
        "modelPath = f\"{MODEL_PATH_BASE}modelFold\""
      ],
      "execution_count": null,
      "outputs": []
    },
    {
      "cell_type": "code",
      "metadata": {
        "id": "KxoEhc9r2LLY"
      },
      "source": [
        "fold = 1\n",
        "for train, test in sets:\n",
        "  # Model instance\n",
        "  myModelClass = OurModel(f\"{modelPath}{fold}\")\n",
        "  # Fit data (train and test)\n",
        "  history = myModelClass.model.fit(finalDataset[train], finalLabels[train],\n",
        "              batch_size=batchSize,\n",
        "              epochs=nEpochs,\n",
        "              verbose=0,\n",
        "              callbacks=myModelClass.callbacks,\n",
        "              validation_data=(finalDataset[test], finalLabels[test]),)\n",
        "  # Scores\n",
        "  scores = myModelClass.model.evaluate(finalDataset[test], finalLabels[test], verbose=0)\n",
        "  # Results accumulator\n",
        "  results = results.append({'Fold': fold, 'Accuracy': (scores[1] * 100), 'Loss': scores[0]}, ignore_index=True)\n",
        "  fold += 1\n"
      ],
      "execution_count": null,
      "outputs": []
    },
    {
      "cell_type": "markdown",
      "metadata": {
        "id": "je1W2SWAc5IO"
      },
      "source": [
        "###**Results**"
      ]
    },
    {
      "cell_type": "markdown",
      "metadata": {
        "id": "g9o67C4XdB0-"
      },
      "source": [
        "####**Results per fold**"
      ]
    },
    {
      "cell_type": "code",
      "metadata": {
        "colab": {
          "base_uri": "https://localhost:8080/",
          "height": 206
        },
        "id": "UZiIojuFWEsv",
        "outputId": "cd0dc2b0-646f-401d-f15e-537b3ac29698"
      },
      "source": [
        "results.head()"
      ],
      "execution_count": null,
      "outputs": [
        {
          "output_type": "execute_result",
          "data": {
            "text/html": [
              "<div>\n",
              "<style scoped>\n",
              "    .dataframe tbody tr th:only-of-type {\n",
              "        vertical-align: middle;\n",
              "    }\n",
              "\n",
              "    .dataframe tbody tr th {\n",
              "        vertical-align: top;\n",
              "    }\n",
              "\n",
              "    .dataframe thead th {\n",
              "        text-align: right;\n",
              "    }\n",
              "</style>\n",
              "<table border=\"1\" class=\"dataframe\">\n",
              "  <thead>\n",
              "    <tr style=\"text-align: right;\">\n",
              "      <th></th>\n",
              "      <th>Fold</th>\n",
              "      <th>Accuracy</th>\n",
              "      <th>Loss</th>\n",
              "    </tr>\n",
              "  </thead>\n",
              "  <tbody>\n",
              "    <tr>\n",
              "      <th>0</th>\n",
              "      <td>1.0</td>\n",
              "      <td>98.571426</td>\n",
              "      <td>0.099505</td>\n",
              "    </tr>\n",
              "    <tr>\n",
              "      <th>1</th>\n",
              "      <td>2.0</td>\n",
              "      <td>95.714283</td>\n",
              "      <td>0.600167</td>\n",
              "    </tr>\n",
              "    <tr>\n",
              "      <th>2</th>\n",
              "      <td>3.0</td>\n",
              "      <td>95.714283</td>\n",
              "      <td>0.235827</td>\n",
              "    </tr>\n",
              "    <tr>\n",
              "      <th>3</th>\n",
              "      <td>4.0</td>\n",
              "      <td>97.101450</td>\n",
              "      <td>0.148596</td>\n",
              "    </tr>\n",
              "    <tr>\n",
              "      <th>4</th>\n",
              "      <td>5.0</td>\n",
              "      <td>95.652175</td>\n",
              "      <td>0.244975</td>\n",
              "    </tr>\n",
              "  </tbody>\n",
              "</table>\n",
              "</div>"
            ],
            "text/plain": [
              "   Fold   Accuracy      Loss\n",
              "0   1.0  98.571426  0.099505\n",
              "1   2.0  95.714283  0.600167\n",
              "2   3.0  95.714283  0.235827\n",
              "3   4.0  97.101450  0.148596\n",
              "4   5.0  95.652175  0.244975"
            ]
          },
          "metadata": {
            "tags": []
          },
          "execution_count": 43
        }
      ]
    },
    {
      "cell_type": "markdown",
      "metadata": {
        "id": "eO5vGJcldFHY"
      },
      "source": [
        "####**Average results**"
      ]
    },
    {
      "cell_type": "code",
      "metadata": {
        "colab": {
          "base_uri": "https://localhost:8080/",
          "height": 81
        },
        "id": "W9jaLobjdIkB",
        "outputId": "480158ac-93d6-4c66-ad68-8fab0902195c"
      },
      "source": [
        "pd.DataFrame([]).append({\"Accuracy\": results[\"Accuracy\"].mean(), \"Loss\": results[\"Loss\"].mean()}, ignore_index=True)"
      ],
      "execution_count": null,
      "outputs": [
        {
          "output_type": "execute_result",
          "data": {
            "text/html": [
              "<div>\n",
              "<style scoped>\n",
              "    .dataframe tbody tr th:only-of-type {\n",
              "        vertical-align: middle;\n",
              "    }\n",
              "\n",
              "    .dataframe tbody tr th {\n",
              "        vertical-align: top;\n",
              "    }\n",
              "\n",
              "    .dataframe thead th {\n",
              "        text-align: right;\n",
              "    }\n",
              "</style>\n",
              "<table border=\"1\" class=\"dataframe\">\n",
              "  <thead>\n",
              "    <tr style=\"text-align: right;\">\n",
              "      <th></th>\n",
              "      <th>Accuracy</th>\n",
              "      <th>Loss</th>\n",
              "    </tr>\n",
              "  </thead>\n",
              "  <tbody>\n",
              "    <tr>\n",
              "      <th>0</th>\n",
              "      <td>96.550723</td>\n",
              "      <td>0.265814</td>\n",
              "    </tr>\n",
              "  </tbody>\n",
              "</table>\n",
              "</div>"
            ],
            "text/plain": [
              "    Accuracy      Loss\n",
              "0  96.550723  0.265814"
            ]
          },
          "metadata": {
            "tags": []
          },
          "execution_count": 44
        }
      ]
    },
    {
      "cell_type": "markdown",
      "metadata": {
        "id": "RbZfKqWhPhqA"
      },
      "source": [
        "####**Select the best performing model**"
      ]
    },
    {
      "cell_type": "code",
      "metadata": {
        "id": "EP-2R3jCPo9K"
      },
      "source": [
        "foldIndex = results[\"Loss\"].argmin()\n",
        "foldIndex = results.iloc[foldIndex][\"Fold\"]\n",
        "myModel = keras.models.load_model(f\"{modelPath}{int(foldIndex)}\")"
      ],
      "execution_count": null,
      "outputs": []
    },
    {
      "cell_type": "markdown",
      "metadata": {
        "id": "Qp9ZBgAUmgxY"
      },
      "source": [
        "####**Performance metrics**\n",
        "There are some relevant performance metrics that tell us a little bit more about our model predictions. In this case, we care mainly about our precision because the bigger it is, the less positive misdiagnosis will be provided: we don't want to tell a doctor his patient has COVID-19 when he actually don't.\n",
        "\n",
        "*   **Precision:** Division between true positives and predicted positives\n",
        "\n",
        "$$\\frac{True\\ Positives}{(True\\ Positives + False\\ Positives)}$$\n",
        "\n",
        "*   **Recall:** True positives from one class divided by the total of samples from the same class (true positives + false negatives)\n",
        "\n",
        "$$\\frac{True\\ Positives}{(True\\ Positives + False\\ Negatives)}$$\n",
        "\n",
        "*   **F1-score**: Harmonical mean between recall and precision\n",
        "\n",
        "$$\\frac{2}{\\frac{1}{Precision} + \\frac{1}{Recall}}$$"
      ]
    },
    {
      "cell_type": "code",
      "metadata": {
        "colab": {
          "base_uri": "https://localhost:8080/"
        },
        "id": "7LKj11ySg1DO",
        "outputId": "5cc3696f-e8b4-4a31-9466-75164b7a11f2"
      },
      "source": [
        "pred = myModel.predict_classes(finalDataset[test])\n",
        "print(classification_report(finalLabels[test], pred.flatten()))"
      ],
      "execution_count": null,
      "outputs": [
        {
          "output_type": "stream",
          "text": [
            "              precision    recall  f1-score   support\n",
            "\n",
            "         0.0       1.00      1.00      1.00        30\n",
            "         1.0       1.00      1.00      1.00        39\n",
            "\n",
            "    accuracy                           1.00        69\n",
            "   macro avg       1.00      1.00      1.00        69\n",
            "weighted avg       1.00      1.00      1.00        69\n",
            "\n"
          ],
          "name": "stdout"
        },
        {
          "output_type": "stream",
          "text": [
            "/usr/local/lib/python3.7/dist-packages/tensorflow/python/keras/engine/sequential.py:450: UserWarning: `model.predict_classes()` is deprecated and will be removed after 2021-01-01. Please use instead:* `np.argmax(model.predict(x), axis=-1)`,   if your model does multi-class classification   (e.g. if it uses a `softmax` last-layer activation).* `(model.predict(x) > 0.5).astype(\"int32\")`,   if your model does binary classification   (e.g. if it uses a `sigmoid` last-layer activation).\n",
            "  warnings.warn('`model.predict_classes()` is deprecated and '\n"
          ],
          "name": "stderr"
        }
      ]
    },
    {
      "cell_type": "markdown",
      "metadata": {
        "id": "VEBJyAnZl1YN"
      },
      "source": [
        "####**Confusion Matrix**"
      ]
    },
    {
      "cell_type": "code",
      "metadata": {
        "colab": {
          "base_uri": "https://localhost:8080/",
          "height": 112
        },
        "id": "_isCxuS2kT9y",
        "outputId": "e146b2b4-261c-4e1f-e95a-b03f5da814ce"
      },
      "source": [
        "pd.DataFrame(np.array(confusion_matrix(finalLabels[test], pred)), columns=[\"negativePred\", \"positivePred\"], index=[\"negative\", \"positive\"])\n"
      ],
      "execution_count": null,
      "outputs": [
        {
          "output_type": "execute_result",
          "data": {
            "text/html": [
              "<div>\n",
              "<style scoped>\n",
              "    .dataframe tbody tr th:only-of-type {\n",
              "        vertical-align: middle;\n",
              "    }\n",
              "\n",
              "    .dataframe tbody tr th {\n",
              "        vertical-align: top;\n",
              "    }\n",
              "\n",
              "    .dataframe thead th {\n",
              "        text-align: right;\n",
              "    }\n",
              "</style>\n",
              "<table border=\"1\" class=\"dataframe\">\n",
              "  <thead>\n",
              "    <tr style=\"text-align: right;\">\n",
              "      <th></th>\n",
              "      <th>negativePred</th>\n",
              "      <th>positivePred</th>\n",
              "    </tr>\n",
              "  </thead>\n",
              "  <tbody>\n",
              "    <tr>\n",
              "      <th>negative</th>\n",
              "      <td>30</td>\n",
              "      <td>0</td>\n",
              "    </tr>\n",
              "    <tr>\n",
              "      <th>positive</th>\n",
              "      <td>0</td>\n",
              "      <td>39</td>\n",
              "    </tr>\n",
              "  </tbody>\n",
              "</table>\n",
              "</div>"
            ],
            "text/plain": [
              "          negativePred  positivePred\n",
              "negative            30             0\n",
              "positive             0            39"
            ]
          },
          "metadata": {
            "tags": []
          },
          "execution_count": 47
        }
      ]
    },
    {
      "cell_type": "markdown",
      "metadata": {
        "id": "RWiDIkwKLzKU"
      },
      "source": [
        "##**Grad-CAM**"
      ]
    },
    {
      "cell_type": "markdown",
      "metadata": {
        "id": "xnU-1Ugil2el"
      },
      "source": [
        "It's an interpretative technique that helps understanding why a model predicted one of C classes with an image input. Grad-CAM generates a **class-discriminative localization map** and it doesn't require changes to be applied to many CNN models architecture (including ours)"
      ]
    },
    {
      "cell_type": "markdown",
      "metadata": {
        "id": "lVhF_G9BupDH"
      },
      "source": [
        "###**Implementation**"
      ]
    },
    {
      "cell_type": "code",
      "metadata": {
        "id": "e9egieKNirsM"
      },
      "source": [
        "def getGradCAM(input, lastConvModel, classifierModel):\n",
        "  # Gradient tape to provide gradients with respect to our lastConvOutput\n",
        "  with tf.GradientTape() as tape:\n",
        "      inputs = np.array([input])\n",
        "      lastConvOutput = lastConvModel(inputs)\n",
        "      tape.watch(lastConvOutput)\n",
        "      preds = classifierModel(lastConvOutput)\n",
        "      yClass = preds[0]\n",
        "\n",
        "  # Gradients of our class score (yc) with relation to our last activation maps\n",
        "  grads = tape.gradient(yClass, lastConvOutput)\n",
        "\n",
        "  # GAP gradients (one value/pooledGrad per \"channel\")\n",
        "  pooledGrads = tf.reduce_mean(grads, axis=(0, 1, 2))\n",
        "\n",
        "  # update shape to get only the 3 dimensions: HxWxC\n",
        "  lastConvOutput = np.array(lastConvOutput)[0]\n",
        "  pooledGrads = np.array(pooledGrads)\n",
        "  # Multiply our pooledGrads by each correspondent activation map\n",
        "  for i in range(pooledGrads.shape[0]):\n",
        "      lastConvOutput[:, :, i] *= pooledGrads[i]\n",
        "\n",
        "  # Sum all filters (result = 1 filter)\n",
        "  gradcam = np.sum(lastConvOutput, axis=-1)\n",
        "  # Apply ReLU to our result (with equivalent clip method) and normalize filter\n",
        "  gradcam = np.clip(gradcam, 0, np.max(gradcam)) / np.max(gradcam)\n",
        "  gradcam = cv2.resize(gradcam, inputShape[:2])\n",
        "  return gradcam,preds[0]\n",
        "  "
      ],
      "execution_count": null,
      "outputs": []
    },
    {
      "cell_type": "markdown",
      "metadata": {
        "id": "RUVUU3QsaEo7"
      },
      "source": [
        "##**Get your predictions**"
      ]
    },
    {
      "cell_type": "markdown",
      "metadata": {
        "id": "wWIT1d36aKN_"
      },
      "source": [
        "If you have trained the model and ran the results cells in the **Train** session, you already have a model loaded in \"myModel\" object.\n",
        "\n",
        "Otherwise, you can:\n",
        "- upload a saved model as a zip file (and paste its path in the cell bellow)\n",
        "- unzip it (run cell bellow)\n",
        "- copy the path of the unzipped model, paste in the second cell bellow and run it"
      ]
    },
    {
      "cell_type": "code",
      "metadata": {
        "colab": {
          "base_uri": "https://localhost:8080/"
        },
        "id": "GLzuBYlWbyQv",
        "outputId": "56aef25b-1217-47be-8524-69d0e9d589df"
      },
      "source": [
        "zipModelPath = \"/content/savedModel.zip\" # make sure the zip file path is correct\n",
        "!unzip {zipModelPath} -d ./\n",
        "!rm -rf {zipModelPath}"
      ],
      "execution_count": null,
      "outputs": [
        {
          "output_type": "stream",
          "text": [
            "Archive:  /content/savedModel.zip\n",
            "   creating: ./savedModel/\n",
            "  inflating: ./savedModel/saved_model.pb  \n",
            "   creating: ./savedModel/variables/\n",
            "  inflating: ./savedModel/variables/variables.index  \n",
            "  inflating: ./savedModel/variables/variables.data-00000-of-00001  \n",
            "   creating: ./savedModel/assets/\n"
          ],
          "name": "stdout"
        }
      ]
    },
    {
      "cell_type": "code",
      "metadata": {
        "id": "SKZz5JsDaIOd"
      },
      "source": [
        "myModel = keras.models.load_model(\"/content/savedModel\") # make sure the model path is correct"
      ],
      "execution_count": null,
      "outputs": []
    },
    {
      "cell_type": "markdown",
      "metadata": {
        "id": "JdDWIESCoIe0"
      },
      "source": [
        "###**Classification and Interpretability**\n",
        "\n",
        "The goal of this project is to develop an auxiliary diagnostic tool which is capable of labeling an x-ray image input (classification ability), but also of providing a visual explanation (interpretability).\n",
        "We achieve this with the combination of a CNN model with Grad-CAM technique. "
      ]
    },
    {
      "cell_type": "markdown",
      "metadata": {
        "id": "8P1zbXDCft18"
      },
      "source": [
        "####**Prepare for Grad-CAM**\n",
        "- We need the submodel of our main model until its last convolutional layer\n",
        "- We need another submodel from the last conv. layer until the classifier one"
      ]
    },
    {
      "cell_type": "code",
      "metadata": {
        "colab": {
          "base_uri": "https://localhost:8080/"
        },
        "id": "LEu6FjUYLyaC",
        "outputId": "ec524555-6fb8-4e1b-f913-6e057216c255"
      },
      "source": [
        "# Keras model from our first layer until the last convolutional one\n",
        "lastConv = myModel.get_layer(name=\"Conv5\")\n",
        "lastConvModel = keras.Model(myModel.inputs, lastConv.output)\n",
        "lastConvModel.summary()"
      ],
      "execution_count": null,
      "outputs": [
        {
          "output_type": "stream",
          "text": [
            "Model: \"model_1\"\n",
            "_________________________________________________________________\n",
            "Layer (type)                 Output Shape              Param #   \n",
            "=================================================================\n",
            "Input (InputLayer)           [(None, 128, 128, 3)]     0         \n",
            "_________________________________________________________________\n",
            "Conv1 (Conv2D)               (None, 124, 124, 14)      1064      \n",
            "_________________________________________________________________\n",
            "MaxPool1 (MaxPooling2D)      (None, 62, 62, 14)        0         \n",
            "_________________________________________________________________\n",
            "Conv2 (Conv2D)               (None, 58, 58, 28)        9828      \n",
            "_________________________________________________________________\n",
            "MaxPool2 (MaxPooling2D)      (None, 29, 29, 28)        0         \n",
            "_________________________________________________________________\n",
            "Conv3 (Conv2D)               (None, 25, 25, 28)        19628     \n",
            "_________________________________________________________________\n",
            "MaxPool3 (MaxPooling2D)      (None, 12, 12, 28)        0         \n",
            "_________________________________________________________________\n",
            "Conv4 (Conv2D)               (None, 10, 10, 28)        7084      \n",
            "_________________________________________________________________\n",
            "MaxPool4 (MaxPooling2D)      (None, 5, 5, 28)          0         \n",
            "_________________________________________________________________\n",
            "Conv5 (Conv2D)               (None, 3, 3, 56)          14168     \n",
            "=================================================================\n",
            "Total params: 51,772\n",
            "Trainable params: 51,772\n",
            "Non-trainable params: 0\n",
            "_________________________________________________________________\n"
          ],
          "name": "stdout"
        }
      ]
    },
    {
      "cell_type": "code",
      "metadata": {
        "colab": {
          "base_uri": "https://localhost:8080/"
        },
        "id": "PHEhdeAxgWx8",
        "outputId": "e2569efd-0c2f-41ce-b2b5-ae187a20a54d"
      },
      "source": [
        "# Keras model from our first layer after the lastConv until the output (classifier)\n",
        "classifier = keras.models.Sequential()\n",
        "# The last conv output is our classifier input\n",
        "classifier.add(keras.Input(shape=lastConv.output.shape))\n",
        "# Layers after the last conv layer to compose our classifier\n",
        "for layerName in [\"GAP1\", \"Sigmoid1\"]:\n",
        "  classifier.add(myModel.get_layer(name=layerName))\n",
        "classifier.summary()"
      ],
      "execution_count": null,
      "outputs": [
        {
          "output_type": "stream",
          "text": [
            "Model: \"sequential_1\"\n",
            "_________________________________________________________________\n",
            "Layer (type)                 Output Shape              Param #   \n",
            "=================================================================\n",
            "GAP1 (GlobalAveragePooling2D multiple                  0         \n",
            "_________________________________________________________________\n",
            "Sigmoid1 (Dense)             multiple                  57        \n",
            "=================================================================\n",
            "Total params: 57\n",
            "Trainable params: 57\n",
            "Non-trainable params: 0\n",
            "_________________________________________________________________\n"
          ],
          "name": "stdout"
        }
      ]
    },
    {
      "cell_type": "markdown",
      "metadata": {
        "id": "NoYhWC2Kc8Xf"
      },
      "source": [
        "####**Get and visualize predictions**\n",
        "In this session we will:\n",
        "- Select **k** random samples (and its labels) from our final dataset array\n",
        "- Feed our model with each of the **k** samples and get as result a Grad-CAM map with the corresponding prediction (positive or negative)\n",
        "- Plot the predicted classes, the true classes, the samples and their Grad-CAM maps"
      ]
    },
    {
      "cell_type": "code",
      "metadata": {
        "id": "mPjtgsDhoTeD"
      },
      "source": [
        "# Test model with k random samples from our x-ray images\n",
        "k = 3\n",
        "random.seed(a=SEED, version=2)\n",
        "idx = np.random.choice(np.arange(len(finalDataset)), k, replace=False)\n",
        "samples = finalDataset[idx]\n",
        "labels = finalLabels[idx]\n",
        "gradcams = []\n",
        "preds = []\n",
        "\n",
        "# Get prediction and heat map for each sample\n",
        "for img in samples:\n",
        "  gradcam, pred = getGradCAM(input=img, lastConvModel=lastConvModel, classifierModel=classifier)\n",
        "  preds += [posClassLabel if pred > 0.5 else negClassLabel]\n",
        "  gradcams += [gradcam]"
      ],
      "execution_count": null,
      "outputs": []
    },
    {
      "cell_type": "code",
      "metadata": {
        "colab": {
          "base_uri": "https://localhost:8080/",
          "height": 436
        },
        "id": "S1GQo690sH_i",
        "outputId": "f053feaa-1d46-495a-839a-7c9d3916931d"
      },
      "source": [
        "# Plot\n",
        "fig = plt.figure(figsize=(10, 7))\n",
        "rows = 2\n",
        "columns = k\n",
        "for i in range(k):\n",
        "  fig.add_subplot(rows, columns, i+1)\n",
        "  # showing image\n",
        "  plt.title(posClassLabel if labels[i] else negClassLabel)\n",
        "  plt.imshow(array_to_img(samples[i]))\n",
        "  fig.add_subplot(rows, columns, k+i+1)\n",
        "  # showing image\n",
        "  plt.title(f\"Pred: {preds[i]}\")\n",
        "  plt.imshow(array_to_img(samples[i]))\n",
        "  plt.imshow(gradcams[i], alpha=0.5)"
      ],
      "execution_count": null,
      "outputs": [
        {
          "output_type": "display_data",
          "data": {
            "image/png": "[encoded data removed]",
            "text/plain": [
              "<Figure size 720x504 with 6 Axes>"
            ]
          },
          "metadata": {
            "tags": [],
            "needs_background": "light"
          }
        }
      ]
    },
    {
      "cell_type": "markdown",
      "metadata": {
        "id": "rUeqgcgrBJWS"
      },
      "source": [
        "#####**Analysis**\n",
        "Many of the heat maps obtained indicate regions of interest at the edges of the images, which may represent a bad generalization for the proposed problem. We can appeal to a trivial conclusion: lung diseases must be recognized in regions internal to the lungs. In this case, Grad-CAM also acts as an evaluator of our model and allows us to continue improving our project. "
      ]
    }
  ]
}